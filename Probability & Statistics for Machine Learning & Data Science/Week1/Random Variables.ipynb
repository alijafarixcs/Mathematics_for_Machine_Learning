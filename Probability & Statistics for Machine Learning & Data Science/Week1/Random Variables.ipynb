{
 "cells": [
  {
   "cell_type": "code",
   "execution_count": 9,
   "id": "362d30b2",
   "metadata": {},
   "outputs": [],
   "source": [
    "import matplotlib.pyplot as plt\n",
    "import math"
   ]
  },
  {
   "cell_type": "code",
   "execution_count": 23,
   "id": "9b3b910e",
   "metadata": {},
   "outputs": [
    {
     "data": {
      "text/plain": [
       "<BarContainer object of 21 artists>"
      ]
     },
     "execution_count": 23,
     "metadata": {},
     "output_type": "execute_result"
    },
    {
     "data": {
      "image/png": "[encoded data removed]",
      "text/plain": [
       "<Figure size 432x288 with 1 Axes>"
      ]
     },
     "metadata": {
      "needs_background": "light"
     },
     "output_type": "display_data"
    }
   ],
   "source": [
    "def binomial_des(p,n,k):\n",
    "    C=math.factorial(n)/(math.factorial(n-k)*math.factorial(k))\n",
    "    #for example 5 times Dice to get 3 one is C(5,3) * 1/6**3 * 5/6 **2\n",
    "    return C*(p**k)*((1-p)**(n-k))\n",
    "n=20\n",
    "p=0.113\n",
    "dis_list=[]\n",
    "for i in range(n+1):\n",
    "    dis_list.append(binomial_des(p,n,i))\n",
    "plt.bar([i for i in range(n+1)],dis_list)"
   ]
  }
 ],
 "metadata": {
  "kernelspec": {
   "display_name": "Python 3 (ipykernel)",
   "language": "python",
   "name": "python3"
  },
  "language_info": {
   "codemirror_mode": {
    "name": "ipython",
    "version": 3
   },
   "file_extension": ".py",
   "mimetype": "text/x-python",
   "name": "python",
   "nbconvert_exporter": "python",
   "pygments_lexer": "ipython3",
   "version": "3.9.18"
  }
 },
 "nbformat": 4,
 "nbformat_minor": 5
}
