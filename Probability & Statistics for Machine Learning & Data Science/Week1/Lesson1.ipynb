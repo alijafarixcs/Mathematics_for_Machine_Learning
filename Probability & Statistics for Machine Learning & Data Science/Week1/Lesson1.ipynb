{
 "cells": [
  {
   "cell_type": "code",
   "execution_count": 15,
   "id": "003f716a",
   "metadata": {},
   "outputs": [],
   "source": [
    "import matplotlib.pyplot as plt"
   ]
  },
  {
   "cell_type": "code",
   "execution_count": 4,
   "id": "1dae1e81",
   "metadata": {},
   "outputs": [],
   "source": [
    "def coin_prob(n):\n",
    "    prob_of_h=1\n",
    "    for _ in range(n):\n",
    "        prob_of_h*=0.5\n",
    "    return prob_of_h"
   ]
  },
  {
   "cell_type": "code",
   "execution_count": 23,
   "id": "43b31e30",
   "metadata": {},
   "outputs": [
    {
     "data": {
      "text/plain": [
       "0.125"
      ]
     },
     "execution_count": 23,
     "metadata": {},
     "output_type": "execute_result"
    }
   ],
   "source": [
    "coin_prob(3) #chance of getting n time(H) in n try"
   ]
  },
  {
   "cell_type": "code",
   "execution_count": 24,
   "id": "e9673c99",
   "metadata": {},
   "outputs": [
    {
     "data": {
      "text/plain": [
       "0.875"
      ]
     },
     "execution_count": 24,
     "metadata": {},
     "output_type": "execute_result"
    }
   ],
   "source": [
    "complement_of_n_time_H_in_n_try=1-coin_prob(3)\n",
    "complement_of_n_time_H_in_n_try"
   ]
  },
  {
   "cell_type": "code",
   "execution_count": 9,
   "id": "e0cd82ac",
   "metadata": {},
   "outputs": [],
   "source": [
    "def dice_prob(n):\n",
    "    prob_of_h=1\n",
    "    for _ in range(n):\n",
    "        prob_of_h*=(1/6)\n",
    "    return prob_of_h"
   ]
  },
  {
   "cell_type": "code",
   "execution_count": 12,
   "id": "a4e867c3",
   "metadata": {},
   "outputs": [
    {
     "data": {
      "text/plain": [
       "0.16666666666666666"
      ]
     },
     "execution_count": 12,
     "metadata": {},
     "output_type": "execute_result"
    }
   ],
   "source": [
    "dice_prob(1) #chance of getting n time(1) in n try"
   ]
  },
  {
   "cell_type": "code",
   "execution_count": 18,
   "id": "944a2415",
   "metadata": {},
   "outputs": [],
   "source": [
    "chance_of_H=[coin_prob(i+1) for i in range(10)]"
   ]
  },
  {
   "cell_type": "code",
   "execution_count": 25,
   "id": "6f810590",
   "metadata": {},
   "outputs": [
    {
     "data": {
      "text/plain": [
       "[<matplotlib.lines.Line2D at 0x1923f77b790>]"
      ]
     },
     "execution_count": 25,
     "metadata": {},
     "output_type": "execute_result"
    },
    {
     "data": {
      "image/png": "[encoded data removed]",
      "text/plain": [
       "<Figure size 640x480 with 1 Axes>"
      ]
     },
     "metadata": {},
     "output_type": "display_data"
    }
   ],
   "source": [
    "plt.plot(chance_of_H)"
   ]
  },
  {
   "cell_type": "markdown",
   "id": "cead6cac",
   "metadata": {},
   "source": [
    "Sum of Probabilities (Disjoint Events) p_soccer+p_basketball ==> U"
   ]
  },
  {
   "cell_type": "code",
   "execution_count": 30,
   "id": "4da0216d",
   "metadata": {},
   "outputs": [],
   "source": [
    "p_soccer=.3\n",
    "p_basketball=.4"
   ]
  },
  {
   "cell_type": "code",
   "execution_count": 35,
   "id": "5d4e9930",
   "metadata": {},
   "outputs": [
    {
     "data": {
      "text/plain": [
       "0.7"
      ]
     },
     "execution_count": 35,
     "metadata": {},
     "output_type": "execute_result"
    }
   ],
   "source": [
    "p_soccer_union_p_basketball=p_soccer+p_basketball\n",
    "p_soccer_union_p_basketball"
   ]
  },
  {
   "cell_type": "markdown",
   "id": "e4be8e7d",
   "metadata": {},
   "source": [
    "Sum of Probabilities (Joint Events) p_soccer+p_basketball - p_soccer_and_p_basketball ==>(aUb) - (a∩b)"
   ]
  },
  {
   "cell_type": "code",
   "execution_count": 37,
   "id": "8d500b42",
   "metadata": {},
   "outputs": [
    {
     "data": {
      "text/plain": [
       "0.6"
      ]
     },
     "execution_count": 37,
     "metadata": {},
     "output_type": "execute_result"
    }
   ],
   "source": [
    "p_soccer_and_p_basketball=0.1\n",
    "p_soccer_union_p_basketball=p_soccer+p_basketball-p_soccer_and_p_basketball\n",
    "p_soccer_union_p_basketball"
   ]
  },
  {
   "cell_type": "markdown",
   "id": "e0e23a76",
   "metadata": {},
   "source": [
    "The commonality of two independent sets is their multiplication, and the commonality of two dependent sets is the common probability between them\n",
    "\n",
    "The union of two independent sets is their sum and the union of two common sets is their sum minus their commons"
   ]
  },
  {
   "cell_type": "markdown",
   "id": "42a30b75",
   "metadata": {},
   "source": [
    "<h3> Independence Events"
   ]
  },
  {
   "cell_type": "code",
   "execution_count": 47,
   "id": "7191a168",
   "metadata": {},
   "outputs": [],
   "source": [
    "School_capacity=100 #person\n",
    "Room1=30 #The capacity of the first room\n",
    "Room2=70\n",
    "Soccer=40 #Like Play Soccer\n",
    "Basketball=60 #Like Play Basketball\n"
   ]
  },
  {
   "cell_type": "markdown",
   "id": "0c8786aa",
   "metadata": {},
   "source": [
    "<h3>how many kids in romm 1 like soccer"
   ]
  },
  {
   "cell_type": "code",
   "execution_count": 48,
   "id": "c5363a6e",
   "metadata": {},
   "outputs": [
    {
     "data": {
      "text/plain": [
       "0.12"
      ]
     },
     "execution_count": 48,
     "metadata": {},
     "output_type": "execute_result"
    }
   ],
   "source": [
    "p_room1=Room1/School_capacity\n",
    "p_soccer=Soccer/School_capacity\n",
    "p_room1_like_soccer=p_room1*p_soccer\n",
    "p_room1_like_soccer"
   ]
  },
  {
   "cell_type": "code",
   "execution_count": 51,
   "id": "32289a2e",
   "metadata": {},
   "outputs": [
    {
     "data": {
      "text/plain": [
       "12.0"
      ]
     },
     "execution_count": 51,
     "metadata": {},
     "output_type": "execute_result"
    }
   ],
   "source": [
    "nomber_of_person=p_room1_like_soccer*School_capacity\n",
    "nomber_of_person"
   ]
  },
  {
   "cell_type": "markdown",
   "id": "21265a81",
   "metadata": {},
   "source": [
    "<h3>Birthday problem"
   ]
  },
  {
   "cell_type": "code",
   "execution_count": 61,
   "id": "79a3ce49",
   "metadata": {},
   "outputs": [],
   "source": [
    "def birth_problem(n_person):\n",
    "    days=365\n",
    "    #n_person_compliment_days=366-n_person\n",
    "    chance=1\n",
    "    for i in range(n_person):\n",
    "        n_person_compliment_days=366-(i+1)\n",
    "        chance*=n_person_compliment_days/days\n",
    "    return chance\n"
   ]
  },
  {
   "cell_type": "code",
   "execution_count": 64,
   "id": "9e5b1093",
   "metadata": {},
   "outputs": [
    {
     "data": {
      "text/plain": [
       "0.2936837572807312"
      ]
     },
     "execution_count": 64,
     "metadata": {},
     "output_type": "execute_result"
    }
   ],
   "source": [
    "birth_problem(30)"
   ]
  },
  {
   "cell_type": "code",
   "execution_count": 66,
   "id": "b79ca73b",
   "metadata": {},
   "outputs": [
    {
     "data": {
      "text/plain": [
       "[<matplotlib.lines.Line2D at 0x1924009fbd0>]"
      ]
     },
     "execution_count": 66,
     "metadata": {},
     "output_type": "execute_result"
    },
    {
     "data": {
      "image/png": "[encoded data removed]",
      "text/plain": [
       "<Figure size 640x480 with 1 Axes>"
      ]
     },
     "metadata": {},
     "output_type": "display_data"
    }
   ],
   "source": [
    "plt.plot([birth_problem(n) for n in range(366)])"
   ]
  }
 ],
 "metadata": {
  "kernelspec": {
   "display_name": "Python 3 (ipykernel)",
   "language": "python",
   "name": "python3"
  },
  "language_info": {
   "codemirror_mode": {
    "name": "ipython",
    "version": 3
   },
   "file_extension": ".py",
   "mimetype": "text/x-python",
   "name": "python",
   "nbconvert_exporter": "python",
   "pygments_lexer": "ipython3",
   "version": "3.11.4"
  }
 },
 "nbformat": 4,
 "nbformat_minor": 5
}
