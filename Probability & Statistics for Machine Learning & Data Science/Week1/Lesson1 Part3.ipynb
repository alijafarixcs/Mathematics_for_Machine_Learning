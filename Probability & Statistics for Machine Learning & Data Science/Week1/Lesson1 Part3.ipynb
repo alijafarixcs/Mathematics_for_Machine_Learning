{
 "cells": [
  {
   "cell_type": "code",
   "execution_count": 1,
   "id": "a6064000",
   "metadata": {},
   "outputs": [],
   "source": [
    "import matplotlib.pyplot as plt"
   ]
  },
  {
   "cell_type": "markdown",
   "id": "31eafc0c",
   "metadata": {},
   "source": [
    "<h3>Bayes Theorem "
   ]
  },
  {
   "cell_type": "code",
   "execution_count": 8,
   "id": "620c835a",
   "metadata": {},
   "outputs": [],
   "source": [
    "population=10**6\n",
    "sicks=1/10000 # probability\n",
    "sick_population=sicks*population\n",
    "effective=.99"
   ]
  },
  {
   "cell_type": "markdown",
   "id": "243e60ad",
   "metadata": {},
   "source": [
    "<img src=\"bays sick.jpg\" width=\"800px\"/>"
   ]
  },
  {
   "cell_type": "code",
   "execution_count": 11,
   "id": "3b0351d7",
   "metadata": {},
   "outputs": [
    {
     "data": {
      "text/plain": [
       "0.009901970492127925"
      ]
     },
     "execution_count": 11,
     "metadata": {},
     "output_type": "execute_result"
    }
   ],
   "source": [
    "tested_sick_health_guys=(1-effective)*population #this is error of test that wrong says 0.01 heath guys are sick\n",
    "tested_sick_sick_guys=effective*sick_population\n",
    "prob_sick_test_sick=sick_population/(tested_sick_health_guys+tested_sick_sick_guys)\n",
    "prob_sick_test_sick"
   ]
  },
  {
   "cell_type": "markdown",
   "id": "8bf2230f",
   "metadata": {},
   "source": [
    "<img src=\"bays sick - theorie.jpg\" width=\"800px\"/>"
   ]
  },
  {
   "cell_type": "code",
   "execution_count": 25,
   "id": "801ed20c",
   "metadata": {},
   "outputs": [
    {
     "data": {
      "text/plain": [
       "0.00980392156862745"
      ]
     },
     "execution_count": 25,
     "metadata": {},
     "output_type": "execute_result"
    }
   ],
   "source": [
    "P_A=0.0001 #sick percent=>P(A)=   sicks probability 1e6 * 1/10000 =100  100/population=P_A\n",
    "P_N_A=1-P_A #Health guys percent => 1-P(A)\n",
    "HealthGuys=1e6-100\n",
    "P_B=(1/100) * HealthGuys +(99/100) * 100  #P(B)=Diagnosed Sick= (1/100) * population +(99/100) * 100\n",
    "P_N_B=1-P_B\n",
    "P_B_Given_A=.99 # Effective\n",
    "P_B_Given_N_A=.01\n",
    "P_A_Given_B=P_A*P_B_Given_A / ((P_A*P_B_Given_A)+(P_N_A*P_B_Given_N_A))\n",
    "P_A_Given_B"
   ]
  },
  {
   "cell_type": "markdown",
   "id": "6cd4fa9e",
   "metadata": {},
   "source": [
    "<h3> Naive Bayes Example\n",
    "<img src=\"naiveorginal.jpg\" width=\"600px\" />\n",
    "<img src=\"naiveorginal2.jpg\" width=\"600px\" />\n",
    "<h4>example is on file of \"Naive Bayse Email.ipynb\""
   ]
  }
 ],
 "metadata": {
  "kernelspec": {
   "display_name": "Python 3 (ipykernel)",
   "language": "python",
   "name": "python3"
  },
  "language_info": {
   "codemirror_mode": {
    "name": "ipython",
    "version": 3
   },
   "file_extension": ".py",
   "mimetype": "text/x-python",
   "name": "python",
   "nbconvert_exporter": "python",
   "pygments_lexer": "ipython3",
   "version": "3.9.18"
  }
 },
 "nbformat": 4,
 "nbformat_minor": 5
}
