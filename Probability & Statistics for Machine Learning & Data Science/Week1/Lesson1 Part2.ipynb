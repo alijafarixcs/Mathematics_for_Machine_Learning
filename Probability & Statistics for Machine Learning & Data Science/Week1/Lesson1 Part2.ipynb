{
 "cells": [
  {
   "cell_type": "markdown",
   "id": "5409dc09",
   "metadata": {},
   "source": [
    "<h3>Conditional Probability - Part 1  throw 2 dices  example bigger than 6 with first number of 3 ((3,4),(3,5),(3,6))   "
   ]
  },
  {
   "cell_type": "code",
   "execution_count": 10,
   "id": "0db5b8ec",
   "metadata": {},
   "outputs": [],
   "source": [
    "import numpy as np\n",
    "import pandas as pd\n",
    "import numpy.ma as ma"
   ]
  },
  {
   "cell_type": "code",
   "execution_count": 11,
   "id": "900442ca",
   "metadata": {},
   "outputs": [
    {
     "data": {
      "text/plain": [
       "(array([[(1, 1), (1, 2), (1, 3), (1, 4), (1, 5), (1, 6)],\n",
       "        [(2, 1), (2, 2), (2, 3), (2, 4), (2, 5), (2, 6)],\n",
       "        [(3, 1), (3, 2), (3, 3), (3, 4), (3, 5), (3, 6)],\n",
       "        [(4, 1), (4, 2), (4, 3), (4, 4), (4, 5), (4, 6)],\n",
       "        [(5, 1), (5, 2), (5, 3), (5, 4), (5, 5), (5, 6)],\n",
       "        [(6, 1), (6, 2), (6, 3), (6, 4), (6, 5), (6, 6)]], dtype=object),\n",
       " array([[False, False, False, False, False, False],\n",
       "        [False, False, False, False, False, False],\n",
       "        [False, False, False,  True,  True,  True],\n",
       "        [False, False, False, False, False, False],\n",
       "        [False, False, False, False, False, False],\n",
       "        [False, False, False, False, False, False]]),\n",
       " array([[False, False, False, False, False,  True],\n",
       "        [False, False, False, False,  True,  True],\n",
       "        [False, False, False,  True,  True,  True],\n",
       "        [False, False,  True,  True,  True,  True],\n",
       "        [False,  True,  True,  True,  True,  True],\n",
       "        [ True,  True,  True,  True,  True,  True]]),\n",
       " array([[False, False, False, False, False, False],\n",
       "        [False, False, False, False, False, False],\n",
       "        [ True,  True,  True,  True,  True,  True],\n",
       "        [False, False, False, False, False, False],\n",
       "        [False, False, False, False, False, False],\n",
       "        [False, False, False, False, False, False]]))"
      ]
     },
     "execution_count": 11,
     "metadata": {},
     "output_type": "execute_result"
    }
   ],
   "source": [
    "def bigger_than(x,y):\n",
    "    return sum(x)>y\n",
    "def first_one(f,x):\n",
    "    return (f==x)\n",
    "def two_dice(n,bg,fo):\n",
    "    sp=np.ones(shape=[6 for _ in range(n)],dtype=int).astype(tuple)\n",
    "    bg6_first3=np.arange(6**n).reshape([6 for _ in range(n)]).astype(bool)\n",
    "    bg6=np.arange(6**n).reshape([6 for _ in range(n)]).astype(bool)\n",
    "    fo3=np.arange(6**n).reshape([6 for _ in range(n)]).astype(bool)\n",
    "    \n",
    "    for c1,v1 in enumerate(sp):\n",
    "        for c2,v2 in enumerate(v1):\n",
    "           sp[c1,c2]=(c1+1,c2+1)\n",
    "           bg6_first3[c1,c2]=bg(sp[c1,c2],6)&fo(3,c1+1)\n",
    "           bg6[c1,c2]=bg(sp[c1,c2],6)\n",
    "           fo3[c1,c2]=fo(3,c1+1)\n",
    "            \n",
    "    return sp,bg6_first3,bg6,fo3\n",
    "sp,bg6_first3,bg6,fo3=two_dice(2,bigger_than,first_one)    \n",
    "df=pd.DataFrame(sp)\n",
    "sp,bg6_first3,bg6,fo3"
   ]
  },
  {
   "cell_type": "code",
   "execution_count": 12,
   "id": "6437b6cf",
   "metadata": {},
   "outputs": [
    {
     "data": {
      "text/html": [
       "<div>\n",
       "<style scoped>\n",
       "    .dataframe tbody tr th:only-of-type {\n",
       "        vertical-align: middle;\n",
       "    }\n",
       "\n",
       "    .dataframe tbody tr th {\n",
       "        vertical-align: top;\n",
       "    }\n",
       "\n",
       "    .dataframe thead th {\n",
       "        text-align: right;\n",
       "    }\n",
       "</style>\n",
       "<table border=\"1\" class=\"dataframe\">\n",
       "  <thead>\n",
       "    <tr style=\"text-align: right;\">\n",
       "      <th></th>\n",
       "      <th>0</th>\n",
       "      <th>1</th>\n",
       "      <th>2</th>\n",
       "      <th>3</th>\n",
       "      <th>4</th>\n",
       "      <th>5</th>\n",
       "    </tr>\n",
       "  </thead>\n",
       "  <tbody>\n",
       "    <tr>\n",
       "      <th>0</th>\n",
       "      <td>(1, 1)</td>\n",
       "      <td>(1, 2)</td>\n",
       "      <td>(1, 3)</td>\n",
       "      <td>(1, 4)</td>\n",
       "      <td>(1, 5)</td>\n",
       "      <td>(1, 6)</td>\n",
       "    </tr>\n",
       "    <tr>\n",
       "      <th>1</th>\n",
       "      <td>(2, 1)</td>\n",
       "      <td>(2, 2)</td>\n",
       "      <td>(2, 3)</td>\n",
       "      <td>(2, 4)</td>\n",
       "      <td>(2, 5)</td>\n",
       "      <td>(2, 6)</td>\n",
       "    </tr>\n",
       "    <tr>\n",
       "      <th>2</th>\n",
       "      <td>(3, 1)</td>\n",
       "      <td>(3, 2)</td>\n",
       "      <td>(3, 3)</td>\n",
       "      <td>(3, 4)</td>\n",
       "      <td>(3, 5)</td>\n",
       "      <td>(3, 6)</td>\n",
       "    </tr>\n",
       "    <tr>\n",
       "      <th>3</th>\n",
       "      <td>(4, 1)</td>\n",
       "      <td>(4, 2)</td>\n",
       "      <td>(4, 3)</td>\n",
       "      <td>(4, 4)</td>\n",
       "      <td>(4, 5)</td>\n",
       "      <td>(4, 6)</td>\n",
       "    </tr>\n",
       "    <tr>\n",
       "      <th>4</th>\n",
       "      <td>(5, 1)</td>\n",
       "      <td>(5, 2)</td>\n",
       "      <td>(5, 3)</td>\n",
       "      <td>(5, 4)</td>\n",
       "      <td>(5, 5)</td>\n",
       "      <td>(5, 6)</td>\n",
       "    </tr>\n",
       "    <tr>\n",
       "      <th>5</th>\n",
       "      <td>(6, 1)</td>\n",
       "      <td>(6, 2)</td>\n",
       "      <td>(6, 3)</td>\n",
       "      <td>(6, 4)</td>\n",
       "      <td>(6, 5)</td>\n",
       "      <td>(6, 6)</td>\n",
       "    </tr>\n",
       "  </tbody>\n",
       "</table>\n",
       "</div>"
      ],
      "text/plain": [
       "        0       1       2       3       4       5\n",
       "0  (1, 1)  (1, 2)  (1, 3)  (1, 4)  (1, 5)  (1, 6)\n",
       "1  (2, 1)  (2, 2)  (2, 3)  (2, 4)  (2, 5)  (2, 6)\n",
       "2  (3, 1)  (3, 2)  (3, 3)  (3, 4)  (3, 5)  (3, 6)\n",
       "3  (4, 1)  (4, 2)  (4, 3)  (4, 4)  (4, 5)  (4, 6)\n",
       "4  (5, 1)  (5, 2)  (5, 3)  (5, 4)  (5, 5)  (5, 6)\n",
       "5  (6, 1)  (6, 2)  (6, 3)  (6, 4)  (6, 5)  (6, 6)"
      ]
     },
     "execution_count": 12,
     "metadata": {},
     "output_type": "execute_result"
    }
   ],
   "source": [
    "df"
   ]
  },
  {
   "cell_type": "code",
   "execution_count": 14,
   "id": "832a9110",
   "metadata": {},
   "outputs": [
    {
     "data": {
      "text/plain": [
       "array([(3, 4), (3, 5), (3, 6)], dtype=object)"
      ]
     },
     "execution_count": 14,
     "metadata": {},
     "output_type": "execute_result"
    }
   ],
   "source": [
    "masked=sp[bg6_first3]\n",
    "masked"
   ]
  },
  {
   "cell_type": "markdown",
   "id": "2160f966",
   "metadata": {},
   "source": [
    "<img src=\"conditioal_probability.jpg\" width=\"500px\"><h3>Conditional Probability - Play Soccer and taking running shoes"
   ]
  },
  {
   "cell_type": "code",
   "execution_count": 18,
   "id": "1e1b421a",
   "metadata": {},
   "outputs": [
    {
     "data": {
      "text/plain": [
       "(0.32000000000000006, 0.08000000000000002, 0.3, 0.3)"
      ]
     },
     "execution_count": 18,
     "metadata": {},
     "output_type": "execute_result"
    }
   ],
   "source": [
    "\n",
    "play_soccer=0.4 # B\n",
    "dont_play_soccer=.6 # B'\n",
    "take_Running_shoes_play_soccer=.8 # A|B\n",
    "no_take_Running_shoes_play_soccer=.2 # A'|B\n",
    "take_Running_shoes_dont_play_soccer=.5 # A|B'\n",
    "no_take_Running_shoes_dont_play_soccer=.5 # A'|B'\n",
    "ps_take_running_sh=play_soccer*take_Running_shoes_play_soccer#  A ∩ B\n",
    "ps_Dont_take_running_sh=play_soccer*no_take_Running_shoes_play_soccer#  A ∩ B\n",
    "dont_ps_take_running_sh=dont_play_soccer*no_take_Running_shoes_dont_play_soccer#  A ∩ B\n",
    "dont_ps_Dont_take_running_sh=dont_play_soccer*no_take_Running_shoes_dont_play_soccer#  A ∩ B\n",
    "\n",
    "\n",
    "ps_take_running_sh,ps_Dont_take_running_sh,dont_ps_take_running_sh,dont_ps_Dont_take_running_sh"
   ]
  }
 ],
 "metadata": {
  "kernelspec": {
   "display_name": "Python 3 (ipykernel)",
   "language": "python",
   "name": "python3"
  },
  "language_info": {
   "codemirror_mode": {
    "name": "ipython",
    "version": 3
   },
   "file_extension": ".py",
   "mimetype": "text/x-python",
   "name": "python",
   "nbconvert_exporter": "python",
   "pygments_lexer": "ipython3",
   "version": "3.9.18"
  }
 },
 "nbformat": 4,
 "nbformat_minor": 5
}
